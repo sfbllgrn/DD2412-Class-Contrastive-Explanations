{
  "nbformat": 4,
  "nbformat_minor": 0,
  "metadata": {
    "colab": {
      "provenance": [],
      "gpuType": "T4"
    },
    "kernelspec": {
      "name": "python3",
      "display_name": "Python 3"
    },
    "language_info": {
      "name": "python"
    },
    "accelerator": "GPU"
  },
  "cells": [
    {
      "cell_type": "code",
      "execution_count": null,
      "metadata": {
        "id": "f2Vleli99HdS"
      },
      "outputs": [],
      "source": [
        "# Imports\n",
        "import os\n",
        "import time\n",
        "from datetime import datetime\n",
        "import tqdm\n",
        "\n",
        "import numpy as np\n",
        "import pandas as pd\n",
        "import scipy.io\n",
        "import scipy\n",
        "\n",
        "import copy\n",
        "import tarfile\n",
        "\n",
        "import matplotlib.pyplot as plt"
      ]
    },
    {
      "cell_type": "code",
      "source": [
        "# Torch imports\n",
        "import torch\n",
        "import torchvision\n",
        "\n",
        "from torchvision.models import vgg16, VGG16_Weights\n",
        "from torchvision.models import AlexNet_Weights\n",
        "import torchvision.transforms as transforms\n",
        "from torchvision import models\n",
        "from torchvision import datasets\n",
        "from torch.utils.data import DataLoader\n",
        "from torch.utils.data import Subset\n",
        "from torch.utils.tensorboard import SummaryWriter"
      ],
      "metadata": {
        "id": "__ngxCtx9O2c"
      },
      "execution_count": null,
      "outputs": []
    },
    {
      "cell_type": "code",
      "source": [
        "# Set device to GPU if avaliable\n",
        "print(torch.cuda.is_available())\n",
        "device = torch.device(\"cuda:0\" if torch.cuda.is_available() else \"cpu\")"
      ],
      "metadata": {
        "colab": {
          "base_uri": "https://localhost:8080/"
        },
        "id": "dxoG5lH39WSQ",
        "outputId": "20407c66-8c28-4607-9bac-b3dd8fbed6a7"
      },
      "execution_count": null,
      "outputs": [
        {
          "output_type": "stream",
          "name": "stdout",
          "text": [
            "True\n"
          ]
        }
      ]
    },
    {
      "cell_type": "code",
      "source": [
        "# Mount drive for training data set\n",
        "from google.colab import drive\n",
        "drive.mount('/content/drive')"
      ],
      "metadata": {
        "colab": {
          "base_uri": "https://localhost:8080/"
        },
        "id": "GH_S1d129f8r",
        "outputId": "59fd09e9-3740-4221-cd10-e2de58cebac3"
      },
      "execution_count": null,
      "outputs": [
        {
          "output_type": "stream",
          "name": "stdout",
          "text": [
            "Mounted at /content/drive\n"
          ]
        }
      ]
    },
    {
      "cell_type": "code",
      "source": [
        "# For both alexnet and vgg16, input_size should be set to 224\n",
        "input_size = 224\n",
        "\n",
        "# ---------------------------------------------------------------------------------\n",
        "batch_size = 128\n",
        "num_epochs = 20\n",
        "# ---------------------------------------------------------------------------------"
      ],
      "metadata": {
        "id": "wldA9BIaFGQ7"
      },
      "execution_count": null,
      "outputs": []
    },
    {
      "cell_type": "code",
      "source": [
        "# Initialize data transforms\n",
        "\n",
        "data_transform_train = transforms.Compose([\n",
        "    transforms.RandomResizedCrop(input_size), # Varför just RandomResizedCrop? Måste nog läsa om VGG16\n",
        "    transforms.RandomHorizontalFlip(),\n",
        "    transforms.ToTensor(),\n",
        "    transforms.Normalize([0.485, 0.456, 0.406], [0.229, 0.224, 0.225])\n",
        "])\n",
        "data_transform_val = transforms.Compose([\n",
        "    transforms.Resize(input_size),\n",
        "    transforms.CenterCrop(input_size),\n",
        "    transforms.ToTensor(),\n",
        "    transforms.Normalize([0.485, 0.456, 0.406], [0.229, 0.224, 0.225])\n",
        "])"
      ],
      "metadata": {
        "id": "7DVTQlUbB-OR"
      },
      "execution_count": null,
      "outputs": []
    },
    {
      "cell_type": "code",
      "source": [
        "# Extract data contained in Tar Files, avaliable data sets:\n",
        "# CUB_200_2011.tar\n",
        "\n",
        "dir = '/content/drive/MyDrive/DD2412/'\n",
        "\n",
        "# ---------------------------------------------------------------------------------\n",
        "dataset_name = 'CUB_200_2011.tar'\n",
        "# --------------------------------------------------------------------------------\n",
        "\n",
        "# Specify the path to the uploaded .tar file\n",
        "tar_file_path = dir + dataset_name  # Replace with your file's name\n",
        "\n",
        "# Specify the target directory where you want to extract the contents\n",
        "target_directory = '/content/extracted_data/'  # Replace with your desired directory\n",
        "\n",
        "# Create the target directory if it doesn't exist\n",
        "if not os.path.exists(target_directory):\n",
        "    os.makedirs(target_directory)\n",
        "\n",
        "# Extract the contents of the .tar file\n",
        "with tarfile.open(tar_file_path, 'r') as tar:\n",
        "    tar.extractall(target_directory)\n",
        "\n",
        "metadata_dir = './extracted_data/CUB_200_2011/'\n",
        "\n",
        "class_df = pd.read_csv(metadata_dir + 'classes.txt', delimiter=' ', header=None, names = ['Index', 'Class'])\n",
        "\n",
        "num_classes = len(class_df['Class'])\n",
        "\n",
        "\n",
        "# Create DataLoaders for the data extracted above\n",
        "\n",
        "data_dir = './extracted_data/CUB_200_2011/images'\n",
        "\n",
        "training_set = datasets.ImageFolder(data_dir, transform=data_transform_train)\n",
        "val_test_set = datasets.ImageFolder(data_dir, transform=data_transform_val)\n",
        "\n",
        "train_test_df = pd.read_csv(metadata_dir + 'train_test_split.txt',\n",
        "                               delimiter=' ', header=None,\n",
        "                               names = ['Index', 'train_test'])\n",
        "\n",
        "num_train = len(training_set)\n",
        "indices = list(range(num_train))\n",
        "# print(len(indices))\n",
        "\n",
        "train_test_indices = np.array(train_test_df['train_test'])\n",
        "train_indices = np.arange(num_train)[train_test_indices==1]\n",
        "val_test_indices = np.arange(num_train)[train_test_indices==0]\n",
        "\n",
        "\n",
        "np.random.shuffle(val_test_indices)\n",
        "\n",
        "split = int(0.5*len(val_test_indices))\n",
        "\n",
        "val_indices = val_test_indices[:split]\n",
        "test_indices = val_test_indices[split:]\n",
        "\n",
        "train_data = Subset(training_set, indices=train_indices)\n",
        "val_data = Subset(val_test_set, indices=val_indices)\n",
        "test_data = Subset(val_test_set, indices=test_indices)\n",
        "\n",
        "train_dataloader = DataLoader(train_data, batch_size=batch_size, shuffle=True, drop_last=True)\n",
        "val_dataloader = DataLoader(val_data, batch_size=batch_size, shuffle=True, drop_last=True)\n",
        "test_dataloader = DataLoader(test_data, batch_size=batch_size, shuffle=True, drop_last=True)\n",
        "\n",
        "class_names = list(class_df['Class'])\n",
        "\n",
        "# TODO: Lägg eventuellt till fler sorters data"
      ],
      "metadata": {
        "id": "U6RVArOHFkxz"
      },
      "execution_count": null,
      "outputs": []
    },
    {
      "cell_type": "code",
      "source": [
        "# Function for extracting data from torchvision.datasets\n",
        "# FGVC Aircraft\n",
        "# Food 101\n",
        "\n",
        "def get_torch_data(target_name, batch_size):\n",
        "  target_directory = '/content/extracted_data/' + target_name\n",
        "  if not os.path.exists(target_directory):\n",
        "    os.makedirs(target_directory)\n",
        "\n",
        "  if target_name == 'FGVC_Aircraft/':\n",
        "    # FGVCAircraft\n",
        "    train_data = torchvision.datasets.FGVCAircraft(root = target_directory,\n",
        "                                  split = 'train',\n",
        "                                  annotation_level='variant',\n",
        "                                  transform=data_transform_train,\n",
        "                                  download=True)\n",
        "    val_data = torchvision.datasets.FGVCAircraft(root = target_directory,\n",
        "                                      split = 'val',\n",
        "                                      annotation_level='variant',\n",
        "                                      transform=data_transform_val,\n",
        "                                      download=True)\n",
        "    num_classes = 100 #https://pytorch.org/vision/main/generated/torchvision.datasets.FGVCAircraft.html\n",
        "    class_names = []\n",
        "    with open(target_directory + 'fgvc-aircraft-2013b/data/variants.txt', \"r\") as file:\n",
        "      for line in file:\n",
        "        class_name =line.strip()\n",
        "        class_names.append(class_name)\n",
        "  elif target_name == 'Food_101/':\n",
        "    # Food101\n",
        "    # TODO: Split test data into validation and testing\n",
        "    train_data = torchvision.datasets.Food101(root = target_directory,\n",
        "                                          split = 'train',\n",
        "                                          transform=data_transform_train,\n",
        "                                          download = True)\n",
        "    val_data = torchvision.datasets.Food101(root = target_directory,\n",
        "                                              split = 'test',\n",
        "                                              transform=data_transform_val,\n",
        "                                              download = True)\n",
        "    num_classes = 101 # https://pytorch.org/vision/main/generated/torchvision.datasets.Food101.html\n",
        "    class_names = []\n",
        "  elif target_name == 'Flowers_102/':\n",
        "    # Flowers102\n",
        "    train_data = torchvision.datasets.Flowers102(root = target_directory,\n",
        "                                                 split = 'train',\n",
        "                                                 transform = data_transform_train,\n",
        "                                                 download = True)\n",
        "    val_data = torchvision.datasets.Flowers102(root = target_directory,\n",
        "                                               split = 'val',\n",
        "                                               transform = data_transform_val,\n",
        "                                               download = True)\n",
        "    num_classes = 102 # https://pytorch.org/vision/stable/generated/torchvision.datasets.Flowers102.html\n",
        "    class_names = []\n",
        "    class_names_dict = {\"21\": \"fire lily\", \"3\": \"canterbury bells\", \"45\": \"bolero deep blue\",\n",
        "                        \"1\": \"pink primrose\", \"34\": \"mexican aster\", \"27\": \"prince of wales feathers\",\n",
        "                        \"7\": \"moon orchid\", \"16\": \"globe-flower\", \"25\": \"grape hyacinth\", \"26\": \"corn poppy\",\n",
        "                        \"79\": \"toad lily\", \"39\": \"siam tulip\", \"24\": \"red ginger\", \"67\": \"spring crocus\",\n",
        "                        \"35\": \"alpine sea holly\", \"32\": \"garden phlox\", \"10\": \"globe thistle\", \"6\":\n",
        "                        \"tiger lily\", \"93\": \"ball moss\", \"33\": \"love in the mist\", \"9\": \"monkshood\",\n",
        "                        \"102\": \"blackberry lily\", \"14\": \"spear thistle\", \"19\": \"balloon flower\",\n",
        "                        \"100\": \"blanket flower\", \"13\": \"king protea\", \"49\": \"oxeye daisy\", \"15\": \"yellow iris\",\n",
        "                        \"61\": \"cautleya spicata\", \"31\": \"carnation\", \"64\": \"silverbush\", \"68\": \"bearded iris\",\n",
        "                        \"63\": \"black-eyed susan\", \"69\": \"windflower\", \"62\": \"japanese anemone\",\n",
        "                        \"20\": \"giant white arum lily\", \"38\": \"great masterwort\", \"4\": \"sweet pea\",\n",
        "                        \"86\": \"tree mallow\", \"101\": \"trumpet creeper\", \"42\": \"daffodil\", \"22\": \"pincushion flower\",\n",
        "                        \"2\": \"hard-leaved pocket orchid\", \"54\": \"sunflower\", \"66\": \"osteospermum\",\n",
        "                        \"70\": \"tree poppy\", \"85\": \"desert-rose\", \"99\": \"bromelia\", \"87\": \"magnolia\",\n",
        "                        \"5\": \"english marigold\", \"92\": \"bee balm\", \"28\": \"stemless gentian\",\n",
        "                        \"97\": \"mallow\", \"57\": \"gaura\", \"40\": \"lenten rose\", \"47\": \"marigold\",\n",
        "                        \"59\": \"orange dahlia\", \"48\": \"buttercup\", \"55\": \"pelargonium\", \"36\": \"ruby-lipped cattleya\",\n",
        "                        \"91\": \"hippeastrum\", \"29\": \"artichoke\", \"71\": \"gazania\", \"90\": \"canna lily\",\n",
        "                        \"18\": \"peruvian lily\", \"98\": \"mexican petunia\", \"8\": \"bird of paradise\",\n",
        "                        \"30\": \"sweet william\", \"17\": \"purple coneflower\", \"52\": \"wild pansy\", \"84\": \"columbine\",\n",
        "                        \"12\": \"colt's foot\", \"11\": \"snapdragon\", \"96\": \"camellia\", \"23\": \"fritillary\",\n",
        "                        \"50\": \"common dandelion\", \"44\": \"poinsettia\", \"53\": \"primula\", \"72\": \"azalea\",\n",
        "                        \"65\": \"californian poppy\", \"80\": \"anthurium\", \"76\": \"morning glory\", \"37\": \"cape flower\",\n",
        "                        \"56\": \"bishop of llandaff\", \"60\": \"pink-yellow dahlia\", \"82\": \"clematis\", \"58\": \"geranium\",\n",
        "                        \"75\": \"thorn apple\", \"41\": \"barbeton daisy\", \"95\": \"bougainvillea\", \"43\": \"sword lily\",\n",
        "                        \"83\": \"hibiscus\", \"78\": \"lotus lotus\", \"88\": \"cyclamen\", \"94\": \"foxglove\", \"81\": \"frangipani\",\n",
        "                        \"74\": \"rose\", \"89\": \"watercress\", \"73\": \"water lily\", \"46\": \"wallflower\",\n",
        "                        \"77\": \"passion flower\", \"51\": \"petunia\"} # https://github.com/Muhammad-MujtabaSaeed/102-Flowers-Classification/tree/master\n",
        "    for i in range(1,num_classes+1):\n",
        "      class_names.append(class_names_dict[str(i)])\n",
        "  elif target_name == 'Stanford_Cars/':\n",
        "    # Stanford Cars\n",
        "    train_data = torchvision.datasets.StanfordCars(root = target_directory,\n",
        "                                                   split = 'train',\n",
        "                                                   transform = data_transform_train,\n",
        "                                                   download = True)\n",
        "    val_data = torchvision.datasets.StanfordCars(root = target_directory,\n",
        "                                                 split = 'test',\n",
        "                                                 transform = data_transform_val,\n",
        "                                                 download = True)\n",
        "    num_classes = 196 # https://pytorch.org/vision/main/generated/torchvision.datasets.StanfordCars.html\n",
        "    class_names = []\n",
        "  train_dataloader = DataLoader(train_data, batch_size = batch_size, shuffle=True, drop_last=True)\n",
        "  val_dataloader = DataLoader(val_data, batch_size = batch_size, shuffle=True, drop_last=True)\n",
        "\n",
        "  # TODO: !!! class_names\n",
        "  return train_dataloader, val_dataloader, num_classes, class_names\n"
      ],
      "metadata": {
        "id": "5FIzTTj2bPaj"
      },
      "execution_count": null,
      "outputs": []
    },
    {
      "cell_type": "code",
      "source": [
        "# Get data from torchvision.datasets\n",
        "# FGVC Aircraft\n",
        "# Food 101\n",
        "\n",
        "# ---------------------------------------------------------------------------------\n",
        "# target_name = 'FGVC_Aircraft/'\n",
        "# target_name = 'Food_101/'\n",
        "target_name = 'Flowers_102/'\n",
        "# target_name = 'Stanford_Cars/'\n",
        "# --------------------------------------------------------------------------------\n",
        "\n",
        "train_dataloader, val_dataloader, num_classes, class_names = get_torch_data(target_name, batch_size)\n"
      ],
      "metadata": {
        "id": "cK8CkVvh_erW"
      },
      "execution_count": null,
      "outputs": []
    },
    {
      "cell_type": "code",
      "source": [
        "# Functions for loading pretrained model\n",
        "def set_parameter_requires_grad(model, feature_extracting):\n",
        "    if feature_extracting:\n",
        "        for param in model.parameters():\n",
        "            param.requires_grad = False\n",
        "\n",
        "def unset_parameter_requires_grad(model):\n",
        "  for param in model.parameters():\n",
        "    param.requires_grad = True\n",
        "\n",
        "def initialize_vgg16(num_classes, feature_extract):\n",
        "    model = vgg16(weights=VGG16_Weights.IMAGENET1K_V1)\n",
        "    set_parameter_requires_grad(model, feature_extract)\n",
        "    # Change the output size (out_features) of the last layer of vgg16\n",
        "    # to be the amount of classes in the new dataset\n",
        "    model.classifier[6] = torch.nn.Linear(model.classifier[6].in_features,\n",
        "                                          num_classes)\n",
        "    input_size = 224 # https://keras.io/api/applications/vgg/\n",
        "    preprocess = VGG16_Weights.IMAGENET1K_V1.transforms()\n",
        "    return model, input_size, preprocess\n",
        "\n",
        "def initialize_alexnet(num_classes, feature_extract):\n",
        "  model = models.alexnet(weights='DEFAULT')\n",
        "  set_parameter_requires_grad(model, feature_extract)\n",
        "  model.classifier[6] = torch.nn.Linear(model.classifier[6].in_features, num_classes)\n",
        "  input_size = 224      # TODO: Källa?\n",
        "  preprocess = AlexNet_Weights.DEFAULT.transforms()\n",
        "  return model, input_size, preprocess\n"
      ],
      "metadata": {
        "id": "2Xm-zrhKE0rw"
      },
      "execution_count": null,
      "outputs": []
    },
    {
      "cell_type": "code",
      "source": [
        "# Load Pretrained model\n",
        "\n",
        "# --------------------------------------------------------------------------------\n",
        "# Feature extract\n",
        "# True - Only the last layer is fine tuned\n",
        "# False - The entire architecture is fine tuned\n",
        "feature_extract = True\n",
        "\n",
        "# VGG16\n",
        "model, input_size, preprocess = initialize_vgg16(num_classes, feature_extract)\n",
        "\n",
        "# AlexNet\n",
        "# model, input_size, preprocess = initialize_alexnet(num_classes, feature_extract)\n",
        "# ---------------------------------------------------------------------------------\n",
        "\n",
        "model = model.to(device)"
      ],
      "metadata": {
        "id": "mqDTOPIgFEj5"
      },
      "execution_count": null,
      "outputs": []
    },
    {
      "cell_type": "code",
      "source": [
        "# --------------------------------------------------------------------------------\n",
        "# Initialize loss function\n",
        "loss_fn = torch.nn.CrossEntropyLoss()\n",
        "\n",
        "# Intitialize optimizer\n",
        "# optimizer = torch.optim.SGD(model.parameters(), lr=0.01, momentum=0.9)\n",
        "optimizer = torch.optim.Adam(model.parameters())\n",
        "# --------------------------------------------------------------------------------"
      ],
      "metadata": {
        "id": "TJwgHk0MHIIR"
      },
      "execution_count": null,
      "outputs": []
    },
    {
      "cell_type": "code",
      "source": [
        "model_state_dict = torch.load('./drive/MyDrive/DD2412/vgg16/cub200/1.pth')\n",
        "\n",
        "feature_extract = False\n",
        "model, _, _ = initialize_vgg16(num_classes, feature_extract)\n",
        "model.load_state_dict(model_state_dict)\n",
        "model = model.to(device)"
      ],
      "metadata": {
        "id": "qsafie6gkhDu"
      },
      "execution_count": null,
      "outputs": []
    },
    {
      "cell_type": "code",
      "source": [
        "def fine_tune_model(model, train_dataloader, val_dataloader,\n",
        "                    optimizer, loss_fn, num_epochs=100):\n",
        "    start_time = time.time()\n",
        "    current_best_model = copy.deepcopy(model.state_dict())\n",
        "    current_best_accuracy = 0.0\n",
        "\n",
        "    epoch_number = 0\n",
        "\n",
        "    best_val_loss = 1000000\n",
        "\n",
        "    train_loss_history = []\n",
        "    train_acc_history = []\n",
        "    val_loss_history = []\n",
        "    val_acc_history = []\n",
        "\n",
        "\n",
        "    for epoch in range(num_epochs):\n",
        "      print('Epoch {}/{}'.format(epoch+1, num_epochs))\n",
        "      model.train()\n",
        "      running_loss = 0.0\n",
        "      running_corrects = 0\n",
        "\n",
        "      for i, data in enumerate(train_dataloader):\n",
        "        print(i)\n",
        "        inputs, labels = data\n",
        "        # GPU\n",
        "        inputs = inputs.to(device)\n",
        "        labels = labels.to(device)\n",
        "\n",
        "        # Zero your gradients for every batch!\n",
        "        optimizer.zero_grad()\n",
        "\n",
        "        # Make predictions for this batch\n",
        "        outputs = model(inputs)\n",
        "\n",
        "        # Compute loss and its gradients\n",
        "        loss = loss_fn(outputs, labels)\n",
        "        loss.backward()\n",
        "\n",
        "        # Adjust learning weights\n",
        "        optimizer.step()\n",
        "\n",
        "        # Gather data and report\n",
        "        running_loss += loss.item()\n",
        "        _, preds = torch.max(outputs, 1)\n",
        "\n",
        "        running_corrects += torch.sum(preds == labels.data)\n",
        "\n",
        "\n",
        "      avg_loss = running_loss / (i+1)\n",
        "      avg_acc = running_corrects.double() / (len(inputs)*(i+1))\n",
        "\n",
        "      running_val_loss = 0.0\n",
        "      running_val_corrects = 0\n",
        "\n",
        "      # Set the model to evaluation mode, disabling dropout and using population\n",
        "      # statistics for batch normalization.\n",
        "      model.eval()\n",
        "\n",
        "      # Disable gradient computation and reduce memory consumption\n",
        "      #\n",
        "      # when you are sure that you will not call Tensor.backward()\n",
        "      # it will reduce memory consumption for computations that would\n",
        "      # otherwise have requires_grad=True.\n",
        "      with torch.no_grad():\n",
        "        for i, val_data in enumerate(val_dataloader):\n",
        "          val_inputs, val_labels = val_data\n",
        "          val_inputs = val_inputs.to(device)\n",
        "          val_labels = val_labels.to(device)\n",
        "          val_outputs = model(val_inputs)\n",
        "          val_loss = loss_fn(val_outputs, val_labels)\n",
        "          running_val_loss += val_loss.item()\n",
        "          _, val_preds = torch.max(val_outputs, 1)\n",
        "          running_val_corrects += torch.sum(val_preds == val_labels.data)\n",
        "\n",
        "      avg_val_acc = running_val_corrects.double() /((i+1)*len(val_inputs))\n",
        "      avg_val_loss = running_val_loss / (i+1)\n",
        "      print('loss: training {}, validation {}\\naccuracy: training {}, validation {}'.format(avg_loss,\n",
        "                                                                   avg_val_loss, avg_acc, avg_val_acc))\n",
        "\n",
        "      #writer.add_scalars('Training vs. Validation loss',\n",
        "      #                   { 'Training' : avg_loss, 'Validation' : avg_val_loss},\n",
        "      #                   epoch_number + 1)\n",
        "      #writer.flush()\n",
        "\n",
        "      # Track best performance, and save the model's state\n",
        "      if current_best_accuracy < avg_val_acc:\n",
        "        current_best_accuracy = avg_val_acc\n",
        "        current_best_model = copy.deepcopy(model.state_dict())\n",
        "        # model_path = 'model_{}_{}'.format(timestamp, epoch_number)\n",
        "        # torch.save(model.state_dict(), model_path)\n",
        "\n",
        "      epoch_number += 1\n",
        "\n",
        "      train_loss_history.append(avg_loss)\n",
        "      train_acc_history.append(avg_acc)\n",
        "      val_loss_history.append(avg_val_loss)\n",
        "      val_acc_history.append(avg_val_acc)\n",
        "\n",
        "    time_elapsed = time.time() - start_time\n",
        "    print('Training complete, {:.0f}m {:.0f}s'.format(time_elapsed // 60, time_elapsed % 60))\n",
        "\n",
        "    return current_best_model, train_loss_history, val_loss_history, train_acc_history, val_acc_history"
      ],
      "metadata": {
        "id": "KWdYV0XdHPd6"
      },
      "execution_count": null,
      "outputs": []
    },
    {
      "cell_type": "code",
      "source": [
        "model_state_dict, tlh, vlh, tah, vah = fine_tune_model(model,\n",
        "                                            train_dataloader,\n",
        "                                            val_dataloader,\n",
        "                                            optimizer,\n",
        "                                            loss_fn,\n",
        "                                            num_epochs=num_epochs)\n"
      ],
      "metadata": {
        "id": "1OlT3n6xHS5w"
      },
      "execution_count": null,
      "outputs": []
    },
    {
      "cell_type": "code",
      "source": [
        "def cpuconvert(input_list):\n",
        "  result = []\n",
        "  for item in input_list:\n",
        "    result.append(item.cpu().numpy())\n",
        "  return np.array(result)"
      ],
      "metadata": {
        "id": "tLWpN4XmfeLm"
      },
      "execution_count": null,
      "outputs": []
    },
    {
      "cell_type": "code",
      "source": [
        "# Plot loss and accuracy\n",
        "# tlh1 = cpuconvert(tlh)\n",
        "# vlh1 = cpuconvert(vlh)\n",
        "tah1 = cpuconvert(tah)\n",
        "vah1 = cpuconvert(vah)\n",
        "\n",
        "fig, axs = plt.subplots(2,1)\n",
        "axs[0].plot(range(1,num_epochs+1), tlh, label='training loss')\n",
        "axs[0].plot(range(1,num_epochs+1), vlh, label='validation loss')\n",
        "axs[1].plot(range(1,num_epochs+1), tah1, label='training accuracy')\n",
        "axs[1].plot(range(1,num_epochs+1), vah1, label='validation accuracy')\n",
        "axs[0].legend()\n",
        "axs[1].legend()\n",
        "plt.show()"
      ],
      "metadata": {
        "colab": {
          "base_uri": "https://localhost:8080/",
          "height": 430
        },
        "id": "j_qlYj3MOqI2",
        "outputId": "70cbf508-3155-4337-cda2-6f1e650f4967"
      },
      "execution_count": null,
      "outputs": [
        {
          "output_type": "display_data",
          "data": {
            "text/plain": [
              "<Figure size 640x480 with 2 Axes>"
            ],
            "image/png": "[encoded data removed]"
          },
          "metadata": {}
        }
      ]
    },
    {
      "cell_type": "code",
      "source": [
        "# Plots to check if the model looks reasonable\n",
        "\n",
        "# # Plot current model\n",
        "# model_name = 'vgg16'\n",
        "# data_name = 'fgvc'\n",
        "# model_dir = './saved_models/' + model_name + '/' + data_name + '/'\n",
        "# model_state_dict = torch.load(model_dir+'1.pth')\n",
        "\n",
        "# Take model from saved models\n",
        "# './drive/MyDrive/DD2412/vgg16/cub200/1.pth'\n",
        "# './drive/MyDrive/DD2412/vgg16/fgvc/1.pth'\n",
        "# './drive/MyDrive/DD2412/vgg16/flowers/1.pth'\n",
        "model_state_dict = torch.load('./drive/MyDrive/DD2412/vgg16/cub200/1.pth')\n",
        "\n",
        "feature_extract = True\n",
        "model, _, _ = initialize_vgg16(num_classes, feature_extract)\n",
        "model.load_state_dict(model_state_dict)\n",
        "model = model.to(device)\n"
      ],
      "metadata": {
        "id": "v0oJcl23OlDo"
      },
      "execution_count": null,
      "outputs": []
    },
    {
      "cell_type": "code",
      "source": [
        "invTrans = transforms.Compose([ transforms.Normalize(mean = [ 0., 0., 0. ],\n",
        "                                                     std = [ 1/0.229, 1/0.224, 1/0.225 ]),\n",
        "                                transforms.Normalize(mean = [ -0.485, -0.456, -0.406 ],\n",
        "                                                     std = [ 1., 1., 1. ]),\n",
        "                               ])"
      ],
      "metadata": {
        "id": "Gn0dthEYrRF6"
      },
      "execution_count": null,
      "outputs": []
    },
    {
      "cell_type": "code",
      "source": [
        "print(class_names)\n",
        "for i, val_data in enumerate(val_dataloader):\n",
        "  val_inputs, val_labels = val_data\n",
        "  val_inputs = val_inputs.to(device)\n",
        "  val_labels = val_labels.to(device)\n",
        "\n",
        "  # model.load_state_dict(torch.load(model_dir + '1.pth'))\n",
        "  model.eval()\n",
        "  val_outputs = model(val_inputs)\n",
        "  _, val_preds = torch.max(val_outputs, 1)\n",
        "\n",
        "  inv_val_inputs = invTrans(val_inputs)\n",
        "  for i in range(10):\n",
        "    # if val_labels[i]==1:\n",
        "    print('label: {}, pred: {}'.format(val_labels[i], val_preds[i]))\n",
        "    print('label: {}, pred: {}'.format(class_names[val_labels[i]], class_names[val_preds[i]]))\n",
        "    plt.imshow(inv_val_inputs[i].cpu().permute(1, 2, 0))\n",
        "    plt.show()\n",
        "    print('\\n')\n",
        "  break"
      ],
      "metadata": {
        "id": "qFlpZwiypU9V"
      },
      "execution_count": null,
      "outputs": []
    },
    {
      "cell_type": "code",
      "source": [
        "val_acc_list = []\n",
        "\n",
        "running_val_corrects = 0\n",
        "\n",
        "for i, val_data in enumerate(val_dataloader):\n",
        "  print(i)\n",
        "  val_inputs, val_labels = val_data\n",
        "  val_inputs = val_inputs.to(device)\n",
        "  val_labels = val_labels.to(device)\n",
        "\n",
        "  model.eval()\n",
        "  val_outputs = model(val_inputs)\n",
        "  _, val_preds = torch.max(val_outputs, 1)\n",
        "  # print(val_preds)\n",
        "  # print(val_labels.data)\n",
        "  running_val_corrects += torch.sum(val_preds == val_labels.data)\n",
        "  print(running_val_corrects)\n",
        "  print(len(val_inputs))\n",
        "  avg_val_acc = running_val_corrects.double() /((i+1)*len(val_inputs))\n",
        "  print(avg_val_acc)\n",
        "  print('\\n')\n",
        "  val_acc_list.append(avg_val_acc.cpu())\n",
        "\n",
        "print(val_acc_list)\n",
        "print(np.array(val_acc_list).mean())\n"
      ],
      "metadata": {
        "id": "NtpBlys5g_MS"
      },
      "execution_count": null,
      "outputs": []
    },
    {
      "cell_type": "code",
      "source": [
        "# Save the model\n",
        "# vgg16\n",
        "# alexnet\n",
        "\n",
        "# cub200\n",
        "# fgvc\n",
        "# flowers\n",
        "# ...\n",
        "\n",
        "model_name = 'vgg16'\n",
        "data_name = 'flowers'\n",
        "model_dir = './saved_models/' + model_name + '/' + data_name + '/'\n",
        "if not os.path.exists(model_dir):\n",
        "  os.makedirs(model_dir)\n",
        "\n",
        "torch.save(model_state_dict, model_dir + '1.pth')\n",
        "\n",
        "# Save training plots\n",
        "np.save(model_dir + 'tlh.npy', np.array(tlh))\n",
        "np.save(model_dir + 'vlh.npy', np.array(vlh))\n",
        "np.save(model_dir + 'tah.npy', np.array(tah1))\n",
        "np.save(model_dir + 'vah.npy', np.array(vah1))\n",
        "\n",
        "# Code to load model, USE in future applications"
      ],
      "metadata": {
        "id": "qRYJlOMSHiyn"
      },
      "execution_count": null,
      "outputs": []
    }
  ]
}